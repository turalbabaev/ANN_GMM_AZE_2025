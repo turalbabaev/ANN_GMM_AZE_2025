{
 "cells": [
  {
   "cell_type": "code",
   "execution_count": null,
   "id": "997fbdf5-ee7f-4f23-8e73-1fe64ecd2f16",
   "metadata": {
    "scrolled": true
   },
   "outputs": [],
   "source": [
    "import numpy as np\n",
    "import joblib\n",
    "import tensorflow as tf\n",
    "\n",
    "# Load the saved model and scaler\n",
    "model = tf.keras.models.load_model('ann_model.h5')\n",
    "scaler = joblib.load('scaler.pkl')\n",
    "\n",
    "# Get user input for Local Magnitude (M), Depth (h), and Distance (d)\n",
    "while True:\n",
    "    try:\n",
    "        M = float(input(\"Enter earthquake local magnitude (M): \"))\n",
    "        h = float(input(\"Enter depth (h) in km: \"))\n",
    "        d = float(input(\"Enter distance (d) from the earthquake to the site in km: \"))\n",
    "        \n",
    "        if M <= 0 or h < 0 or d < 0:\n",
    "            print(\"Magnitude, depth, and distance must be positive numbers. Please try again.\")\n",
    "        else:\n",
    "            break\n",
    "    except ValueError:\n",
    "        print(\"Invalid input. Please enter numerical values.\")\n",
    "\n",
    "# Calculate hypocentral distance (R) using the formula R = sqrt(h^2 + d^2)\n",
    "R = np.sqrt(h**2 + d**2)\n",
    "\n",
    "# Prepare the input features (M, R)\n",
    "X_new = np.array([[M, R]])  # Format as 2D array (1 sample, 2 features)\n",
    "\n",
    "# Normalize the input using the saved scaler\n",
    "X_new_scaled = scaler.transform(X_new)\n",
    "\n",
    "# Predict log10(PGA) using the trained model\n",
    "log_pga_pred = model.predict(X_new_scaled)\n",
    "\n",
    "# Convert log10(PGA) back to PGA (cm/s²)\n",
    "pga_pred = 10 ** log_pga_pred.flatten()\n",
    "\n",
    "# Print the predicted PGA\n",
    "print(f\"\\nPredicted PGA for M={M} and R={R:.2f} km: {pga_pred[0]:.6f} cm/s²\")\n"
   ]
  }
 ],
 "metadata": {
  "kernelspec": {
   "display_name": "Python 3 (ipykernel)",
   "language": "python",
   "name": "python3"
  },
  "language_info": {
   "codemirror_mode": {
    "name": "ipython",
    "version": 3
   },
   "file_extension": ".py",
   "mimetype": "text/x-python",
   "name": "python",
   "nbconvert_exporter": "python",
   "pygments_lexer": "ipython3",
   "version": "3.8.3"
  }
 },
 "nbformat": 4,
 "nbformat_minor": 5
}
